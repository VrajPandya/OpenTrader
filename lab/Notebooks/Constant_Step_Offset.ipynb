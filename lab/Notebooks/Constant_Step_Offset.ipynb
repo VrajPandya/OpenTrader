{
 "cells": [
  {
   "cell_type": "code",
   "execution_count": 38,
   "id": "c2074fce-bec0-4815-86dc-eafc18747fe3",
   "metadata": {},
   "outputs": [
    {
     "name": "stdout",
     "output_type": "stream",
     "text": [
      "cwd: /Users/vrajpandya/repo/OpenTrader/lab/Notebooks\n",
      "/Users/vrajpandya/repo/OpenTrader/data/TraderLedger/ledger.csv\n"
     ]
    }
   ],
   "source": [
    "import csv\n",
    "import pandas\n",
    "\n",
    "import os \n",
    "from pathlib import Path\n",
    "\n",
    "cwd = Path(os.getcwd())\n",
    "print(\"cwd: \" + str(cwd))\n",
    "\n",
    "data_file = cwd.parents[1] / 'data' / 'TraderLedger' / 'ledger.csv'\n",
    "print(data_file)"
   ]
  },
  {
   "cell_type": "code",
   "execution_count": 10,
   "id": "49ea25ae",
   "metadata": {},
   "outputs": [
    {
     "data": {
      "text/html": [
       "<div>\n",
       "<style scoped>\n",
       "    .dataframe tbody tr th:only-of-type {\n",
       "        vertical-align: middle;\n",
       "    }\n",
       "\n",
       "    .dataframe tbody tr th {\n",
       "        vertical-align: top;\n",
       "    }\n",
       "\n",
       "    .dataframe thead th {\n",
       "        text-align: right;\n",
       "    }\n",
       "</style>\n",
       "<table border=\"1\" class=\"dataframe\">\n",
       "  <thead>\n",
       "    <tr style=\"text-align: right;\">\n",
       "      <th></th>\n",
       "      <th>EntryID</th>\n",
       "      <th>OrderID</th>\n",
       "      <th>ClientID</th>\n",
       "      <th>Action</th>\n",
       "      <th>TotalQuantity</th>\n",
       "      <th>LimitPrice</th>\n",
       "      <th>TimeInForce</th>\n",
       "      <th>FilledQuantity</th>\n",
       "      <th>Symbol</th>\n",
       "      <th>Exchange</th>\n",
       "      <th>Currency</th>\n",
       "      <th>ExecutionID</th>\n",
       "      <th>ExecTime</th>\n",
       "      <th>AvgPrice</th>\n",
       "      <th>ExecutionSide</th>\n",
       "      <th>Commission</th>\n",
       "      <th>RealizedPNL</th>\n",
       "      <th>CommissionCurrency</th>\n",
       "      <th>Yield</th>\n",
       "    </tr>\n",
       "  </thead>\n",
       "  <tbody>\n",
       "    <tr>\n",
       "      <th>0</th>\n",
       "      <td>0</td>\n",
       "      <td>3</td>\n",
       "      <td>0</td>\n",
       "      <td>BUY</td>\n",
       "      <td>0.003720</td>\n",
       "      <td>26888.0</td>\n",
       "      <td>Minutes</td>\n",
       "      <td>0.003720</td>\n",
       "      <td>BTC</td>\n",
       "      <td>SMART</td>\n",
       "      <td>USD</td>\n",
       "      <td>0</td>\n",
       "      <td>NaN</td>\n",
       "      <td>26870.0000</td>\n",
       "      <td>BOT</td>\n",
       "      <td>0.4</td>\n",
       "      <td>0</td>\n",
       "      <td>USD</td>\n",
       "      <td>0.0</td>\n",
       "    </tr>\n",
       "    <tr>\n",
       "      <th>1</th>\n",
       "      <td>1</td>\n",
       "      <td>4</td>\n",
       "      <td>0</td>\n",
       "      <td>BUY</td>\n",
       "      <td>0.003721</td>\n",
       "      <td>26878.0</td>\n",
       "      <td>Minutes</td>\n",
       "      <td>0.003721</td>\n",
       "      <td>BTC</td>\n",
       "      <td>SMART</td>\n",
       "      <td>USD</td>\n",
       "      <td>1</td>\n",
       "      <td>NaN</td>\n",
       "      <td>26875.8750</td>\n",
       "      <td>BOT</td>\n",
       "      <td>0.4</td>\n",
       "      <td>0</td>\n",
       "      <td>USD</td>\n",
       "      <td>0.0</td>\n",
       "    </tr>\n",
       "    <tr>\n",
       "      <th>2</th>\n",
       "      <td>2</td>\n",
       "      <td>5</td>\n",
       "      <td>0</td>\n",
       "      <td>BUY</td>\n",
       "      <td>0.003722</td>\n",
       "      <td>26868.0</td>\n",
       "      <td>Minutes</td>\n",
       "      <td>0.003722</td>\n",
       "      <td>BTC</td>\n",
       "      <td>SMART</td>\n",
       "      <td>USD</td>\n",
       "      <td>2</td>\n",
       "      <td>NaN</td>\n",
       "      <td>26862.9375</td>\n",
       "      <td>BOT</td>\n",
       "      <td>0.4</td>\n",
       "      <td>0</td>\n",
       "      <td>USD</td>\n",
       "      <td>0.0</td>\n",
       "    </tr>\n",
       "    <tr>\n",
       "      <th>3</th>\n",
       "      <td>3</td>\n",
       "      <td>6</td>\n",
       "      <td>0</td>\n",
       "      <td>BUY</td>\n",
       "      <td>0.003717</td>\n",
       "      <td>26908.0</td>\n",
       "      <td>Minutes</td>\n",
       "      <td>0.003717</td>\n",
       "      <td>BTC</td>\n",
       "      <td>SMART</td>\n",
       "      <td>USD</td>\n",
       "      <td>3</td>\n",
       "      <td>NaN</td>\n",
       "      <td>26898.6875</td>\n",
       "      <td>BOT</td>\n",
       "      <td>0.4</td>\n",
       "      <td>0</td>\n",
       "      <td>USD</td>\n",
       "      <td>0.0</td>\n",
       "    </tr>\n",
       "    <tr>\n",
       "      <th>4</th>\n",
       "      <td>4</td>\n",
       "      <td>7</td>\n",
       "      <td>0</td>\n",
       "      <td>BUY</td>\n",
       "      <td>0.003715</td>\n",
       "      <td>26918.0</td>\n",
       "      <td>Minutes</td>\n",
       "      <td>0.003715</td>\n",
       "      <td>BTC</td>\n",
       "      <td>SMART</td>\n",
       "      <td>USD</td>\n",
       "      <td>4</td>\n",
       "      <td>NaN</td>\n",
       "      <td>26917.1250</td>\n",
       "      <td>BOT</td>\n",
       "      <td>0.4</td>\n",
       "      <td>0</td>\n",
       "      <td>USD</td>\n",
       "      <td>0.0</td>\n",
       "    </tr>\n",
       "  </tbody>\n",
       "</table>\n",
       "</div>"
      ],
      "text/plain": [
       "   EntryID  OrderID  ClientID Action  TotalQuantity  LimitPrice TimeInForce  \\\n",
       "0        0        3         0    BUY       0.003720     26888.0     Minutes   \n",
       "1        1        4         0    BUY       0.003721     26878.0     Minutes   \n",
       "2        2        5         0    BUY       0.003722     26868.0     Minutes   \n",
       "3        3        6         0    BUY       0.003717     26908.0     Minutes   \n",
       "4        4        7         0    BUY       0.003715     26918.0     Minutes   \n",
       "\n",
       "   FilledQuantity Symbol Exchange Currency  ExecutionID  ExecTime    AvgPrice  \\\n",
       "0        0.003720    BTC    SMART      USD            0       NaN  26870.0000   \n",
       "1        0.003721    BTC    SMART      USD            1       NaN  26875.8750   \n",
       "2        0.003722    BTC    SMART      USD            2       NaN  26862.9375   \n",
       "3        0.003717    BTC    SMART      USD            3       NaN  26898.6875   \n",
       "4        0.003715    BTC    SMART      USD            4       NaN  26917.1250   \n",
       "\n",
       "  ExecutionSide  Commission  RealizedPNL CommissionCurrency  Yield  \n",
       "0           BOT         0.4            0                USD    0.0  \n",
       "1           BOT         0.4            0                USD    0.0  \n",
       "2           BOT         0.4            0                USD    0.0  \n",
       "3           BOT         0.4            0                USD    0.0  \n",
       "4           BOT         0.4            0                USD    0.0  "
      ]
     },
     "execution_count": 10,
     "metadata": {},
     "output_type": "execute_result"
    }
   ],
   "source": [
    "df = pandas.read_csv(data_file)\n",
    "\n",
    "df.head()"
   ]
  },
  {
   "cell_type": "code",
   "execution_count": 11,
   "id": "1e863e18-4eec-42f5-bdc4-e7198cf5a66c",
   "metadata": {},
   "outputs": [
    {
     "name": "stdout",
     "output_type": "stream",
     "text": [
      "{'_id': ObjectId('65f63eba9851a426f91b5a2b'), 'baseline': 27888, 'step': 10, 'entry_context': {'order_id': 3, 'entry_id': 0}}\n"
     ]
    }
   ],
   "source": [
    "import pymongo\n",
    "\n",
    "# Establish a connection to the MongoDB server\n",
    "client = pymongo.MongoClient(\"mongodb://localhost:27017/\")\n",
    "\n",
    "# Access the trader_test_db database\n",
    "db = client[\"trader_test_db\"]\n",
    "\n",
    "# Access the ConstantStepOffset_27888_10 collection\n",
    "collection = db[\"ConstantStepOffset_27888_10\"]\n",
    "\n",
    "# Get all documents in the collection\n",
    "docs = list(collection.find())\n",
    "\n",
    "# Convert the list to a dictionary with indices as keys\n",
    "docs_dict = {i: doc for i, doc in enumerate(docs)}\n",
    "\n",
    "# Print an example document\n",
    "print(docs_dict[0])"
   ]
  },
  {
   "cell_type": "code",
   "execution_count": 13,
   "id": "02f0af51",
   "metadata": {},
   "outputs": [
    {
     "name": "stdout",
     "output_type": "stream",
     "text": [
      "-17075.551299273604\n"
     ]
    }
   ],
   "source": [
    "profit = 0\n",
    "\n",
    "for index, row in df.iterrows():\n",
    "    if row['Action'] == 'BUY':\n",
    "        profit -= row['TotalQuantity'] * row['AvgPrice']\n",
    "    elif row['Action'] == 'SELL':\n",
    "        profit += row['TotalQuantity'] * row['AvgPrice']\n",
    "    \n",
    "    profit -= row['Commission'] * row['TotalQuantity'] * row['AvgPrice']\n",
    "\n",
    "print(profit)\n"
   ]
  },
  {
   "cell_type": "code",
   "execution_count": 22,
   "id": "4708680d",
   "metadata": {},
   "outputs": [],
   "source": [
    "def calculate_profit_for_config(config_dict):\n",
    "    baseline = config_dict['baseline']\n",
    "    stepDelta = config_dict['stepDelta']\n",
    "    orderQuantityInUSD = config_dict['orderQuantityInUSD']\n",
    "    executionLimitOffset = config_dict['executionLimitOffset']\n",
    "    numSteps = int(executionLimitOffset / stepDelta)\n",
    "    \n",
    "    \n",
    "    commission = 0.004\n",
    "    profit = 0\n",
    "    \n",
    "    for step in range(1,numSteps + 1):\n",
    "        btcQuantity = orderQuantityInUSD / (baseline - (step * stepDelta))\n",
    "        profit += (baseline + (step * stepDelta)) * btcQuantity\n",
    "        profit -= orderQuantityInUSD\n",
    "        profit -= commission * orderQuantityInUSD\n",
    "    return profit"
   ]
  },
  {
   "cell_type": "code",
   "execution_count": 36,
   "id": "ceaa8562",
   "metadata": {},
   "outputs": [],
   "source": [
    "def num_steps_for_config(config_dict):\n",
    "    executionLimitOffset = config_dict['executionLimitOffset']\n",
    "    stepDelta = config_dict['stepDelta']\n",
    "    return int(executionLimitOffset / stepDelta)"
   ]
  },
  {
   "cell_type": "code",
   "execution_count": 35,
   "id": "c1cc8a59",
   "metadata": {},
   "outputs": [
    {
     "name": "stdout",
     "output_type": "stream",
     "text": [
      "448.92147659150226\n"
     ]
    }
   ],
   "source": [
    "config_dict = {\n",
    "    \"baseline\" : 77000,\n",
    "    \"stepDelta\": 10,\n",
    "    \"executionLimitOffset\": 2000,\n",
    "    \"stateTransitionThreshold\": 5,\n",
    "    \"orderQuantityInUSD\": 100,\n",
    "}\n",
    "\n",
    "\n",
    "\n",
    "print(calculate_profit_for_config(config_dict))"
   ]
  },
  {
   "cell_type": "code",
   "execution_count": 17,
   "id": "327d982a",
   "metadata": {},
   "outputs": [
    {
     "name": "stdout",
     "output_type": "stream",
     "text": [
      "20000\n",
      "2.2566079620051642\n"
     ]
    }
   ],
   "source": [
    "print(numSteps * orderQuantityInUSD)\n",
    "\n",
    "print(100 * (profit) / (numSteps * orderQuantityInUSD))"
   ]
  },
  {
   "cell_type": "code",
   "execution_count": 37,
   "id": "b555597d",
   "metadata": {},
   "outputs": [
    {
     "ename": "NameError",
     "evalue": "name 'pandas' is not defined",
     "output_type": "error",
     "traceback": [
      "\u001b[0;31m---------------------------------------------------------------------------\u001b[0m",
      "\u001b[0;31mNameError\u001b[0m                                 Traceback (most recent call last)",
      "Cell \u001b[0;32mIn[37], line 16\u001b[0m\n\u001b[1;32m     13\u001b[0m             numSteps \u001b[38;5;241m=\u001b[39m num_steps_for_config(config_dict)\n\u001b[1;32m     14\u001b[0m             profit_matrix\u001b[38;5;241m.\u001b[39mappend([i, j, k, profit, numSteps \u001b[38;5;241m*\u001b[39m k])\n\u001b[0;32m---> 16\u001b[0m profit_df \u001b[38;5;241m=\u001b[39m \u001b[43mpandas\u001b[49m\u001b[38;5;241m.\u001b[39mDataFrame(profit_matrix)\n",
      "\u001b[0;31mNameError\u001b[0m: name 'pandas' is not defined"
     ]
    }
   ],
   "source": [
    "profit_matrix = [['stepDelta', 'executionLimitOffset', 'orderQuantityInUSD', 'profit', 'maxDrawdown']]\n",
    "\n",
    "stepDelta_range = range(10, 1000, 10)\n",
    "executionLimitOffset_range = range(100, 10000, 100)\n",
    "orderQuantityInUSD_range = range(10, 10000, 10)\n",
    "for i in stepDelta_range:\n",
    "    config_dict['stepDelta'] = i\n",
    "    for j in executionLimitOffset_range:\n",
    "        config_dict['executionLimitOffset'] = j\n",
    "        for k in orderQuantityInUSD_range:\n",
    "            config_dict['orderQuantityInUSD'] = k\n",
    "            profit = calculate_profit_for_config(config_dict)\n",
    "            numSteps = num_steps_for_config(config_dict)\n",
    "            profit_matrix.append([i, j, k, profit, numSteps * k])\n",
    "\n",
    "profit_df = pandas.DataFrame(profit_matrix)"
   ]
  },
  {
   "cell_type": "code",
   "execution_count": 45,
   "id": "6339ee10",
   "metadata": {},
   "outputs": [
    {
     "data": {
      "text/html": [
       "<div>\n",
       "<style scoped>\n",
       "    .dataframe tbody tr th:only-of-type {\n",
       "        vertical-align: middle;\n",
       "    }\n",
       "\n",
       "    .dataframe tbody tr th {\n",
       "        vertical-align: top;\n",
       "    }\n",
       "\n",
       "    .dataframe thead th {\n",
       "        text-align: right;\n",
       "    }\n",
       "</style>\n",
       "<table border=\"1\" class=\"dataframe\">\n",
       "  <thead>\n",
       "    <tr style=\"text-align: right;\">\n",
       "      <th></th>\n",
       "      <th>stepDelta</th>\n",
       "      <th>executionLimitOffset</th>\n",
       "      <th>orderQuantityInUSD</th>\n",
       "      <th>profit</th>\n",
       "      <th>maxDrawdown</th>\n",
       "    </tr>\n",
       "  </thead>\n",
       "  <tbody>\n",
       "    <tr>\n",
       "      <th>0</th>\n",
       "      <td>10.0</td>\n",
       "      <td>100.0</td>\n",
       "      <td>10.0</td>\n",
       "      <td>-0.257013</td>\n",
       "      <td>100.0</td>\n",
       "    </tr>\n",
       "    <tr>\n",
       "      <th>1</th>\n",
       "      <td>10.0</td>\n",
       "      <td>100.0</td>\n",
       "      <td>20.0</td>\n",
       "      <td>-0.514026</td>\n",
       "      <td>200.0</td>\n",
       "    </tr>\n",
       "    <tr>\n",
       "      <th>2</th>\n",
       "      <td>10.0</td>\n",
       "      <td>100.0</td>\n",
       "      <td>30.0</td>\n",
       "      <td>-0.771039</td>\n",
       "      <td>300.0</td>\n",
       "    </tr>\n",
       "    <tr>\n",
       "      <th>3</th>\n",
       "      <td>10.0</td>\n",
       "      <td>100.0</td>\n",
       "      <td>40.0</td>\n",
       "      <td>-1.028051</td>\n",
       "      <td>400.0</td>\n",
       "    </tr>\n",
       "    <tr>\n",
       "      <th>4</th>\n",
       "      <td>10.0</td>\n",
       "      <td>100.0</td>\n",
       "      <td>50.0</td>\n",
       "      <td>-1.285064</td>\n",
       "      <td>500.0</td>\n",
       "    </tr>\n",
       "  </tbody>\n",
       "</table>\n",
       "</div>"
      ],
      "text/plain": [
       "   stepDelta  executionLimitOffset  orderQuantityInUSD    profit  maxDrawdown\n",
       "0       10.0                 100.0                10.0 -0.257013        100.0\n",
       "1       10.0                 100.0                20.0 -0.514026        200.0\n",
       "2       10.0                 100.0                30.0 -0.771039        300.0\n",
       "3       10.0                 100.0                40.0 -1.028051        400.0\n",
       "4       10.0                 100.0                50.0 -1.285064        500.0"
      ]
     },
     "execution_count": 45,
     "metadata": {},
     "output_type": "execute_result"
    }
   ],
   "source": [
    "profit_df = pandas.DataFrame(data=profit_matrix[1 :], columns=profit_matrix[0]).astype(float)\n",
    "profit_df.head()"
   ]
  },
  {
   "cell_type": "code",
   "execution_count": 47,
   "id": "2626bf91",
   "metadata": {},
   "outputs": [
    {
     "data": {
      "text/plain": [
       "<Axes: xlabel='executionLimitOffset', ylabel='profit'>"
      ]
     },
     "execution_count": 47,
     "metadata": {},
     "output_type": "execute_result"
    },
    {
     "data": {
      "image/png": "[encoded data removed]",
      "text/plain": [
       "<Figure size 640x480 with 1 Axes>"
      ]
     },
     "metadata": {},
     "output_type": "display_data"
    }
   ],
   "source": [
    "\n",
    "profit_df.plot(x=1, y=3, kind='scatter')\n"
   ]
  },
  {
   "cell_type": "code",
   "execution_count": 50,
   "id": "eb615cc7",
   "metadata": {},
   "outputs": [
    {
     "name": "stdout",
     "output_type": "stream",
     "text": [
      "max Profit: 1354212.1036584158\n",
      "max Drawdown: 9890100.0\n"
     ]
    }
   ],
   "source": [
    "max_profit = profit_df['profit'].max()\n",
    "max_drawdown = profit_df['maxDrawdown'].max()\n",
    "print(\"max Profit: \" + str(max_profit))\n",
    "print(\"max Drawdown: \" + str(max_drawdown))\n"
   ]
  },
  {
   "cell_type": "code",
   "execution_count": 61,
   "id": "2d5d8134",
   "metadata": {},
   "outputs": [
    {
     "name": "stdout",
     "output_type": "stream",
     "text": [
      "         stepDelta  executionLimitOffset  orderQuantityInUSD       profit  \\\n",
      "9790397      990.0                9900.0              1980.0  3001.659832   \n",
      "9790398      990.0                9900.0              1990.0  3016.819731   \n",
      "\n",
      "         maxDrawdown  \n",
      "9790397      19800.0  \n",
      "9790398      19900.0  \n"
     ]
    }
   ],
   "source": [
    "profit_df_less_than_20000 =  profit_df[profit_df['maxDrawdown'] < 20000]\n",
    "\n",
    "result = profit_df_less_than_20000[profit_df_less_than_20000['profit'] > 3000]\n",
    "\n",
    "\n",
    "\n",
    "print(result)\n",
    "\n"
   ]
  },
  {
   "cell_type": "code",
   "execution_count": null,
   "id": "72413758",
   "metadata": {},
   "outputs": [],
   "source": [
    "profit_df_less_than_20000.plot(x=1, y=3, kind='scatter')"
   ]
  }
 ],
 "metadata": {
  "kernelspec": {
   "display_name": "Python 3 (ipykernel)",
   "language": "python",
   "name": "python3"
  },
  "language_info": {
   "codemirror_mode": {
    "name": "ipython",
    "version": 3
   },
   "file_extension": ".py",
   "mimetype": "text/x-python",
   "name": "python",
   "nbconvert_exporter": "python",
   "pygments_lexer": "ipython3",
   "version": "3.11.2"
  }
 },
 "nbformat": 4,
 "nbformat_minor": 5
}
