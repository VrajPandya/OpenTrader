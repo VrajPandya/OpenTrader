{
 "cells": [
  {
   "cell_type": "code",
   "execution_count": 7,
   "id": "c2074fce-bec0-4815-86dc-eafc18747fe3",
   "metadata": {},
   "outputs": [
    {
     "name": "stdout",
     "output_type": "stream",
     "text": [
      "cwd: /Users/vrajpandya/repo/OpenTrader/lab/Notebooks\n",
      "/Users/vrajpandya/repo/OpenTrader/data/TraderLedger/ledger.csv\n"
     ]
    }
   ],
   "source": [
    "import csv\n",
    "import pandas\n",
    "\n",
    "import os \n",
    "from pathlib import Path\n",
    "\n",
    "cwd = Path(os.getcwd())\n",
    "print(\"cwd: \" + str(cwd))\n",
    "\n",
    "data_file = cwd.parents[1] / 'data' / 'TraderLedger' / 'ledger.csv'\n",
    "print(data_file)"
   ]
  },
  {
   "cell_type": "code",
   "execution_count": 10,
   "id": "49ea25ae",
   "metadata": {},
   "outputs": [
    {
     "data": {
      "text/html": [
       "<div>\n",
       "<style scoped>\n",
       "    .dataframe tbody tr th:only-of-type {\n",
       "        vertical-align: middle;\n",
       "    }\n",
       "\n",
       "    .dataframe tbody tr th {\n",
       "        vertical-align: top;\n",
       "    }\n",
       "\n",
       "    .dataframe thead th {\n",
       "        text-align: right;\n",
       "    }\n",
       "</style>\n",
       "<table border=\"1\" class=\"dataframe\">\n",
       "  <thead>\n",
       "    <tr style=\"text-align: right;\">\n",
       "      <th></th>\n",
       "      <th>EntryID</th>\n",
       "      <th>OrderID</th>\n",
       "      <th>ClientID</th>\n",
       "      <th>Action</th>\n",
       "      <th>TotalQuantity</th>\n",
       "      <th>LimitPrice</th>\n",
       "      <th>TimeInForce</th>\n",
       "      <th>FilledQuantity</th>\n",
       "      <th>Symbol</th>\n",
       "      <th>Exchange</th>\n",
       "      <th>Currency</th>\n",
       "      <th>ExecutionID</th>\n",
       "      <th>ExecTime</th>\n",
       "      <th>AvgPrice</th>\n",
       "      <th>ExecutionSide</th>\n",
       "      <th>Commission</th>\n",
       "      <th>RealizedPNL</th>\n",
       "      <th>CommissionCurrency</th>\n",
       "      <th>Yield</th>\n",
       "    </tr>\n",
       "  </thead>\n",
       "  <tbody>\n",
       "    <tr>\n",
       "      <th>0</th>\n",
       "      <td>0</td>\n",
       "      <td>3</td>\n",
       "      <td>0</td>\n",
       "      <td>BUY</td>\n",
       "      <td>0.003720</td>\n",
       "      <td>26888.0</td>\n",
       "      <td>Minutes</td>\n",
       "      <td>0.003720</td>\n",
       "      <td>BTC</td>\n",
       "      <td>SMART</td>\n",
       "      <td>USD</td>\n",
       "      <td>0</td>\n",
       "      <td>NaN</td>\n",
       "      <td>26870.0000</td>\n",
       "      <td>BOT</td>\n",
       "      <td>0.4</td>\n",
       "      <td>0</td>\n",
       "      <td>USD</td>\n",
       "      <td>0.0</td>\n",
       "    </tr>\n",
       "    <tr>\n",
       "      <th>1</th>\n",
       "      <td>1</td>\n",
       "      <td>4</td>\n",
       "      <td>0</td>\n",
       "      <td>BUY</td>\n",
       "      <td>0.003721</td>\n",
       "      <td>26878.0</td>\n",
       "      <td>Minutes</td>\n",
       "      <td>0.003721</td>\n",
       "      <td>BTC</td>\n",
       "      <td>SMART</td>\n",
       "      <td>USD</td>\n",
       "      <td>1</td>\n",
       "      <td>NaN</td>\n",
       "      <td>26875.8750</td>\n",
       "      <td>BOT</td>\n",
       "      <td>0.4</td>\n",
       "      <td>0</td>\n",
       "      <td>USD</td>\n",
       "      <td>0.0</td>\n",
       "    </tr>\n",
       "    <tr>\n",
       "      <th>2</th>\n",
       "      <td>2</td>\n",
       "      <td>5</td>\n",
       "      <td>0</td>\n",
       "      <td>BUY</td>\n",
       "      <td>0.003722</td>\n",
       "      <td>26868.0</td>\n",
       "      <td>Minutes</td>\n",
       "      <td>0.003722</td>\n",
       "      <td>BTC</td>\n",
       "      <td>SMART</td>\n",
       "      <td>USD</td>\n",
       "      <td>2</td>\n",
       "      <td>NaN</td>\n",
       "      <td>26862.9375</td>\n",
       "      <td>BOT</td>\n",
       "      <td>0.4</td>\n",
       "      <td>0</td>\n",
       "      <td>USD</td>\n",
       "      <td>0.0</td>\n",
       "    </tr>\n",
       "    <tr>\n",
       "      <th>3</th>\n",
       "      <td>3</td>\n",
       "      <td>6</td>\n",
       "      <td>0</td>\n",
       "      <td>BUY</td>\n",
       "      <td>0.003717</td>\n",
       "      <td>26908.0</td>\n",
       "      <td>Minutes</td>\n",
       "      <td>0.003717</td>\n",
       "      <td>BTC</td>\n",
       "      <td>SMART</td>\n",
       "      <td>USD</td>\n",
       "      <td>3</td>\n",
       "      <td>NaN</td>\n",
       "      <td>26898.6875</td>\n",
       "      <td>BOT</td>\n",
       "      <td>0.4</td>\n",
       "      <td>0</td>\n",
       "      <td>USD</td>\n",
       "      <td>0.0</td>\n",
       "    </tr>\n",
       "    <tr>\n",
       "      <th>4</th>\n",
       "      <td>4</td>\n",
       "      <td>7</td>\n",
       "      <td>0</td>\n",
       "      <td>BUY</td>\n",
       "      <td>0.003715</td>\n",
       "      <td>26918.0</td>\n",
       "      <td>Minutes</td>\n",
       "      <td>0.003715</td>\n",
       "      <td>BTC</td>\n",
       "      <td>SMART</td>\n",
       "      <td>USD</td>\n",
       "      <td>4</td>\n",
       "      <td>NaN</td>\n",
       "      <td>26917.1250</td>\n",
       "      <td>BOT</td>\n",
       "      <td>0.4</td>\n",
       "      <td>0</td>\n",
       "      <td>USD</td>\n",
       "      <td>0.0</td>\n",
       "    </tr>\n",
       "  </tbody>\n",
       "</table>\n",
       "</div>"
      ],
      "text/plain": [
       "   EntryID  OrderID  ClientID Action  TotalQuantity  LimitPrice TimeInForce  \\\n",
       "0        0        3         0    BUY       0.003720     26888.0     Minutes   \n",
       "1        1        4         0    BUY       0.003721     26878.0     Minutes   \n",
       "2        2        5         0    BUY       0.003722     26868.0     Minutes   \n",
       "3        3        6         0    BUY       0.003717     26908.0     Minutes   \n",
       "4        4        7         0    BUY       0.003715     26918.0     Minutes   \n",
       "\n",
       "   FilledQuantity Symbol Exchange Currency  ExecutionID  ExecTime    AvgPrice  \\\n",
       "0        0.003720    BTC    SMART      USD            0       NaN  26870.0000   \n",
       "1        0.003721    BTC    SMART      USD            1       NaN  26875.8750   \n",
       "2        0.003722    BTC    SMART      USD            2       NaN  26862.9375   \n",
       "3        0.003717    BTC    SMART      USD            3       NaN  26898.6875   \n",
       "4        0.003715    BTC    SMART      USD            4       NaN  26917.1250   \n",
       "\n",
       "  ExecutionSide  Commission  RealizedPNL CommissionCurrency  Yield  \n",
       "0           BOT         0.4            0                USD    0.0  \n",
       "1           BOT         0.4            0                USD    0.0  \n",
       "2           BOT         0.4            0                USD    0.0  \n",
       "3           BOT         0.4            0                USD    0.0  \n",
       "4           BOT         0.4            0                USD    0.0  "
      ]
     },
     "execution_count": 10,
     "metadata": {},
     "output_type": "execute_result"
    }
   ],
   "source": [
    "df = pandas.read_csv(data_file)\n",
    "\n",
    "df.head()"
   ]
  },
  {
   "cell_type": "code",
   "execution_count": 11,
   "id": "1e863e18-4eec-42f5-bdc4-e7198cf5a66c",
   "metadata": {},
   "outputs": [
    {
     "name": "stdout",
     "output_type": "stream",
     "text": [
      "{'_id': ObjectId('65f63eba9851a426f91b5a2b'), 'baseline': 27888, 'step': 10, 'entry_context': {'order_id': 3, 'entry_id': 0}}\n"
     ]
    }
   ],
   "source": [
    "import pymongo\n",
    "\n",
    "# Establish a connection to the MongoDB server\n",
    "client = pymongo.MongoClient(\"mongodb://localhost:27017/\")\n",
    "\n",
    "# Access the trader_test_db database\n",
    "db = client[\"trader_test_db\"]\n",
    "\n",
    "# Access the ConstantStepOffset_27888_10 collection\n",
    "collection = db[\"ConstantStepOffset_27888_10\"]\n",
    "\n",
    "# Get all documents in the collection\n",
    "docs = list(collection.find())\n",
    "\n",
    "# Convert the list to a dictionary with indices as keys\n",
    "docs_dict = {i: doc for i, doc in enumerate(docs)}\n",
    "\n",
    "# Print an example document\n",
    "print(docs_dict[0])"
   ]
  },
  {
   "cell_type": "code",
   "execution_count": 13,
   "id": "02f0af51",
   "metadata": {},
   "outputs": [
    {
     "name": "stdout",
     "output_type": "stream",
     "text": [
      "-17075.551299273604\n"
     ]
    }
   ],
   "source": [
    "profit = 0\n",
    "\n",
    "for index, row in df.iterrows():\n",
    "    if row['Action'] == 'BUY':\n",
    "        profit -= row['TotalQuantity'] * row['AvgPrice']\n",
    "    elif row['Action'] == 'SELL':\n",
    "        profit += row['TotalQuantity'] * row['AvgPrice']\n",
    "    \n",
    "    profit -= row['Commission'] * row['TotalQuantity'] * row['AvgPrice']\n",
    "\n",
    "print(profit)\n"
   ]
  },
  {
   "cell_type": "code",
   "execution_count": 16,
   "id": "c1cc8a59",
   "metadata": {},
   "outputs": [
    {
     "name": "stdout",
     "output_type": "stream",
     "text": [
      "451.32159240103283\n"
     ]
    }
   ],
   "source": [
    "config_dict = {\n",
    "    \"baseline\" : 77000,\n",
    "    \"stepDelta\": 10,\n",
    "    \"executionLimitOffset\": 2000,\n",
    "    \"stateTransitionThreshold\": 5,\n",
    "    \"orderQuantityInUSD\": 100,\n",
    "    \"contract\": {\n",
    "        \"symbol\": \"BTCUSD\",\n",
    "        \"secType\": \"CRYPTO\",\n",
    "        \"currency\": \"USD\",\n",
    "        \"exchange\": \"SMART\",\n",
    "        \"primaryExchange\": \"GEMINI\"\n",
    "    },\n",
    "    \"ledgerPath\": \"~/constant_step_offset_ledger_btc\",\n",
    "    \"ledgerContextCollection\": \"ledgerContext\"\n",
    "}\n",
    "\n",
    "baseline = config_dict['baseline']\n",
    "stepDelta = config_dict['stepDelta']\n",
    "orderQuantityInUSD = config_dict['orderQuantityInUSD']\n",
    "executionLimitOffset = config_dict['executionLimitOffset']\n",
    "numSteps = int(executionLimitOffset / stepDelta)\n",
    "\n",
    "\n",
    "commission = 0.004\n",
    "profit = 0\n",
    "\n",
    "for step in range(1,numSteps + 1):\n",
    "    btcQuantity = orderQuantityInUSD / (baseline - (step * stepDelta))\n",
    "    profit += (baseline + (step * stepDelta)) * btcQuantity\n",
    "    profit -= orderQuantityInUSD\n",
    "    profit -= commission * orderQuantityInUSD\n",
    "\n",
    "print(profit)"
   ]
  },
  {
   "cell_type": "code",
   "execution_count": 17,
   "id": "327d982a",
   "metadata": {},
   "outputs": [
    {
     "name": "stdout",
     "output_type": "stream",
     "text": [
      "20000\n",
      "2.2566079620051642\n"
     ]
    }
   ],
   "source": [
    "print(numSteps * orderQuantityInUSD)\n",
    "\n",
    "print(100 * (profit) / (numSteps * orderQuantityInUSD))"
   ]
  },
  {
   "cell_type": "code",
   "execution_count": null,
   "id": "b555597d",
   "metadata": {},
   "outputs": [],
   "source": []
  }
 ],
 "metadata": {
  "kernelspec": {
   "display_name": "Python 3 (ipykernel)",
   "language": "python",
   "name": "python3"
  },
  "language_info": {
   "codemirror_mode": {
    "name": "ipython",
    "version": 3
   },
   "file_extension": ".py",
   "mimetype": "text/x-python",
   "name": "python",
   "nbconvert_exporter": "python",
   "pygments_lexer": "ipython3",
   "version": "3.11.2"
  }
 },
 "nbformat": 4,
 "nbformat_minor": 5
}
